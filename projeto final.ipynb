{
 "cells": [
  {
   "cell_type": "markdown",
   "metadata": {},
   "source": [
    "# Projeto 1 - Ciência dos Dados"
   ]
  },
  {
   "cell_type": "markdown",
   "metadata": {},
   "source": [
    "## Nome: Gabriela Moreno Boriero\n"
   ]
  },
  {
   "cell_type": "markdown",
   "metadata": {},
   "source": [
    "## Perguntas a serem respondidas"
   ]
  },
  {
   "cell_type": "markdown",
   "metadata": {},
   "source": [
    "1- Desde que o Uruguai entrou no Mercosul houve aumento nas exportações? "
   ]
  },
  {
   "cell_type": "markdown",
   "metadata": {},
   "source": [
    "2- Qual a relação das exportações do Uruguay desde a entrada no Mercosul com os outros países do bloco?"
   ]
  },
  {
   "cell_type": "markdown",
   "metadata": {},
   "source": [
    "3- Qual a relação das exportações do Uruguay desde a entrada no Mercosul com o resto do mundo?\n"
   ]
  },
  {
   "cell_type": "markdown",
   "metadata": {},
   "source": [
    "4- Qual a relação das exportações do Uruguay desde a entrada no Mercosul com um paíse similar ao Uruguai?"
   ]
  },
  {
   "cell_type": "markdown",
   "metadata": {},
   "source": [
    "## Explicação da hipótese e mecanismo"
   ]
  },
  {
   "cell_type": "markdown",
   "metadata": {},
   "source": [
    "O Mercosul é um bloco economico formado por Uruguai, Argentina, Brasil e Paraguai. Este tem como objetivo integrar os países tanto economicamente quanto aos habitantes.Assim, por meio da tarifa externa comum (TEC) os países do bloco possuem mais competetitividade, dessa forma possibilitando um aumento no numero de exportações. \n",
    "https://www.significados.com.br/mercosul/\n"
   ]
  },
  {
   "cell_type": "markdown",
   "metadata": {},
   "source": [
    "## Bases de dados usadas"
   ]
  },
  {
   "cell_type": "markdown",
   "metadata": {},
   "source": [
    "https://www.gapminder.org/data/\n",
    "\n",
    "Variaveis:\n",
    "* Exports(/% of GDP)\n",
    "* PIB\n"
   ]
  },
  {
   "cell_type": "markdown",
   "metadata": {},
   "source": [
    "# Separando os dados"
   ]
  },
  {
   "cell_type": "markdown",
   "metadata": {},
   "source": [
    "### Import"
   ]
  },
  {
   "cell_type": "code",
   "execution_count": 1,
   "metadata": {},
   "outputs": [],
   "source": [
    "%matplotlib inline\n",
    "import pandas as pd\n",
    "import seaborn as sns\n",
    "import math as math\n",
    "from scipy import stats\n",
    "import matplotlib.pyplot as plt"
   ]
  },
  {
   "cell_type": "markdown",
   "metadata": {},
   "source": [
    "### Leitura dos arquivos "
   ]
  },
  {
   "cell_type": "code",
   "execution_count": 2,
   "metadata": {},
   "outputs": [],
   "source": [
    "exportacao = pd.read_excel('exports_percent_of_gdp.xlsx')\n",
    "pib = pd.read_excel('gdp_total_yearly_growth.xlsx')"
   ]
  },
  {
   "cell_type": "markdown",
   "metadata": {},
   "source": [
    "### Mudança de índices"
   ]
  },
  {
   "cell_type": "code",
   "execution_count": 3,
   "metadata": {},
   "outputs": [],
   "source": [
    "exportacao_indice = exportacao.set_index(\"country\")\n",
    "pib_indice = exportacao.set_index(\"country\")"
   ]
  },
  {
   "cell_type": "markdown",
   "metadata": {},
   "source": [
    "## Dados Uruguai Exportação \n"
   ]
  },
  {
   "cell_type": "code",
   "execution_count": 4,
   "metadata": {},
   "outputs": [],
   "source": [
    "exportacao_Uruguay = exportacao_indice.loc['Uruguay',:]"
   ]
  },
  {
   "cell_type": "markdown",
   "metadata": {},
   "source": [
    "### Separando dados em Antes e Depois da entrada do Uruguay no Mercosul"
   ]
  },
  {
   "cell_type": "markdown",
   "metadata": {},
   "source": [
    "#### Antes da entrada no MERCOSUL"
   ]
  },
  {
   "cell_type": "markdown",
   "metadata": {},
   "source": [
    "O Mercosul foi criado no ano de 1991, assim a seguir foram separados os dados entre o ano de 1960 e 1990. Desta forma, posteriormente será possivel comparar com o demais parâmetros."
   ]
  },
  {
   "cell_type": "code",
   "execution_count": 5,
   "metadata": {},
   "outputs": [],
   "source": [
    "antes=exportacao_Uruguay.transpose()\n",
    "uruguay_anterior=antes[(antes.index>1960) & (antes.index<1990)]"
   ]
  },
  {
   "cell_type": "markdown",
   "metadata": {},
   "source": [
    "O gráfico acima mostra a os dados da exportação ao decorrer dos anos, antes da entrada no país no MERCOSUL."
   ]
  },
  {
   "cell_type": "markdown",
   "metadata": {},
   "source": [
    "A partir do código a seguir é possivel obter a média dos valores das exportações do Uruguai antes da entrada no MERCOSUL."
   ]
  },
  {
   "cell_type": "code",
   "execution_count": 6,
   "metadata": {},
   "outputs": [
    {
     "data": {
      "text/plain": [
       "172.89655172413794"
      ]
     },
     "execution_count": 6,
     "metadata": {},
     "output_type": "execute_result"
    }
   ],
   "source": [
    "média_uruguay_antes=uruguay_anterior.mean()\n",
    "média_uruguay_antes"
   ]
  },
  {
   "cell_type": "markdown",
   "metadata": {},
   "source": [
    "#### Depois da entrada no MERCOSUL"
   ]
  },
  {
   "cell_type": "markdown",
   "metadata": {},
   "source": [
    "O código a seguir é a respeito das exportações do país apartir do ano de 1991."
   ]
  },
  {
   "cell_type": "code",
   "execution_count": 7,
   "metadata": {},
   "outputs": [],
   "source": [
    "depois=exportacao_Uruguay.transpose()\n",
    "uruguay_depois=depois[(depois.index>1990)]"
   ]
  },
  {
   "cell_type": "code",
   "execution_count": 8,
   "metadata": {},
   "outputs": [
    {
     "data": {
      "text/plain": [
       "229.40740740740742"
      ]
     },
     "execution_count": 8,
     "metadata": {},
     "output_type": "execute_result"
    }
   ],
   "source": [
    "média_uruguay_depois=uruguay_depois.mean()\n",
    "média_uruguay_depois"
   ]
  },
  {
   "cell_type": "markdown",
   "metadata": {},
   "source": [
    "A cima é possivel observar a mesma analise realizada anteriormente, porém dessa vez com dados após a entrada do país no MERCOSUL. \n",
    "Ambos os dados serão utilizados para comparação futuramente. "
   ]
  },
  {
   "cell_type": "markdown",
   "metadata": {},
   "source": [
    "## Separar os valores de Exportação dos países do MERCOSUL\n"
   ]
  },
  {
   "cell_type": "markdown",
   "metadata": {},
   "source": [
    "Tabela: Paises Mercosul X Anos"
   ]
  },
  {
   "cell_type": "code",
   "execution_count": 9,
   "metadata": {},
   "outputs": [],
   "source": [
    "paises_no_mercosul=exportacao_indice.transpose()\n",
    "MERCOSUL_1990 = paises_no_mercosul[(paises_no_mercosul.index>1990)]\n",
    "exportacao_paises_Mercosul = MERCOSUL_1990.loc[:,[\"Uruguay\",\"Argentina\",\"Brazil\",\"Paraguay\"]]"
   ]
  },
  {
   "cell_type": "markdown",
   "metadata": {},
   "source": [
    "Calculando média de exportaçao dos paises pertencentes ao bloco desde a criação do bloco (1991)"
   ]
  },
  {
   "cell_type": "code",
   "execution_count": 10,
   "metadata": {},
   "outputs": [
    {
     "data": {
      "text/plain": [
       "76.92601851851852"
      ]
     },
     "execution_count": 10,
     "metadata": {},
     "output_type": "execute_result"
    }
   ],
   "source": [
    "exportacao_paises_Mercosul_transposta=exportacao_paises_Mercosul.transpose()\n",
    "média_paises_mercosul_ano=exportacao_paises_Mercosul_transposta.describe()\n",
    "média_paises_mercosul= média_paises_mercosul_ano.loc[\"mean\",:]\n",
    "média_total_países_mercosul=média_paises_mercosul.mean()\n",
    "média_total_países_mercosul"
   ]
  },
  {
   "cell_type": "markdown",
   "metadata": {},
   "source": [
    "Criando Coluna na tabela com os valores médios dos paises do bloco por ano."
   ]
  },
  {
   "cell_type": "code",
   "execution_count": 11,
   "metadata": {},
   "outputs": [],
   "source": [
    "exportacao_paises_Mercosul['Média'] = média_paises_mercosul\n",
    "#exportacao_paises_Mercosul"
   ]
  },
  {
   "cell_type": "markdown",
   "metadata": {},
   "source": [
    "## Valores de exportação de outros países do Mundo\n"
   ]
  },
  {
   "cell_type": "markdown",
   "metadata": {},
   "source": [
    "Criando tabela com valores de exportação dos outros países do mundo a partir de 1991."
   ]
  },
  {
   "cell_type": "code",
   "execution_count": 12,
   "metadata": {
    "scrolled": true
   },
   "outputs": [],
   "source": [
    "exportacao_invertida=exportacao_indice.transpose()\n",
    "exportacao_outros_paises=exportacao_invertida.drop(columns=[\"Uruguay\",\"Argentina\",\"Brazil\",\"Paraguay\"])\n",
    "tabela_outros_paises=exportacao_outros_paises.transpose()\n",
    "tabela_outros_paises_depois_91=tabela_outros_paises.drop(columns =[1960, 1961, 1962, 1963, 1964, 1965, 1966, 1967, 1968, 1969, 1970, 1971, 1972,\n",
    "       1973, 1974, 1975, 1976, 1977, 1978, 1979, 1980, 1981, 1982, 1983, 1984,\n",
    "       1985, 1986, 1987, 1988, 1989, 1990])\n",
    "#tabela_outros_paises_depois_91"
   ]
  },
  {
   "cell_type": "markdown",
   "metadata": {},
   "source": [
    "Obtendo a média total de todos os países a partir do ano de 1991."
   ]
  },
  {
   "cell_type": "code",
   "execution_count": 13,
   "metadata": {},
   "outputs": [
    {
     "data": {
      "text/plain": [
       "111.5846946678057"
      ]
     },
     "execution_count": 13,
     "metadata": {},
     "output_type": "execute_result"
    }
   ],
   "source": [
    "medias_outros_paises_p_ano =tabela_outros_paises_depois_91.describe()\n",
    "média_outros_paises=medias_outros_paises_p_ano.loc[\"mean\",:]\n",
    "média_total_outros_paises=média_outros_paises.mean()\n",
    "média_total_outros_paises"
   ]
  },
  {
   "cell_type": "markdown",
   "metadata": {},
   "source": [
    "## Encontrando um país similar ao Uruguai"
   ]
  },
  {
   "cell_type": "markdown",
   "metadata": {},
   "source": [
    "Com objetivo de obter um país que fosse possivel comparar com o Uruguai foi usado os dados de PIB, para encontrar o país que possui uma maior compatibilidade."
   ]
  },
  {
   "cell_type": "markdown",
   "metadata": {},
   "source": [
    "Para iniciar foi obtida a média do pib de cada pais, para posteriormente comparar com o pib do Uruguai. Como é possivel observar a seguir"
   ]
  },
  {
   "cell_type": "code",
   "execution_count": 14,
   "metadata": {},
   "outputs": [],
   "source": [
    "pib_trasposta=pib_indice.transpose()\n",
    "paises_menos_uruguay=pib_trasposta.drop(columns=\"Uruguay\")\n",
    "medias_pib_paises =paises_menos_uruguay.describe()\n",
    "MED=medias_pib_paises.transpose()\n",
    "média_paises=MED.loc[:,\"mean\"]\n",
    "MPI= média_paises.reset_index()\n",
    "#MPI"
   ]
  },
  {
   "cell_type": "markdown",
   "metadata": {},
   "source": [
    "Posteriormente foi obtido o valor do PIB médio do uruguai para comparar com os obtidos anteriormente. "
   ]
  },
  {
   "cell_type": "code",
   "execution_count": 74,
   "metadata": {},
   "outputs": [],
   "source": [
    "pib_uruguay = pib_trasposta.loc[:,'Uruguay']\n",
    "PUI=pib_uruguay.reset_index()\n",
    "analise_PIB_uruguay=PUI.Uruguay.describe()\n",
    "APUI=analise_PIB_uruguay.reset_index()\n",
    "Média= APUI.loc[1,'Uruguay']\n",
    "#Média\n"
   ]
  },
  {
   "cell_type": "markdown",
   "metadata": {},
   "source": [
    "Para comparar os valores médios dos países com o do uruguai foi realizado o código abaixo:"
   ]
  },
  {
   "cell_type": "code",
   "execution_count": 16,
   "metadata": {},
   "outputs": [
    {
     "name": "stdout",
     "output_type": "stream",
     "text": [
      "País: Tanzania\n",
      "\n",
      "Média PIB: 175.2962962962963\n",
      "\n",
      "Indice: 164\n",
      "\n",
      "\n",
      "País: Tonga\n",
      "\n",
      "Média PIB: 212.4547619047619\n",
      "\n",
      "Indice: 168\n",
      "\n",
      "\n"
     ]
    }
   ],
   "source": [
    "mais_menos= 190.672414<Média<200.672414\n",
    "for i in range(len(MPI['mean'])):\n",
    "    if MPI['mean'][i]<=215 and MPI['mean'][i]>=175:\n",
    "        print(\"País:\",MPI['country'][i])\n",
    "        print()\n",
    "        print(\"Média PIB:\",MPI['mean'][i])\n",
    "        print()\n",
    "        print(\"Indice:\",i)\n",
    "        print()\n",
    "        print()"
   ]
  },
  {
   "cell_type": "markdown",
   "metadata": {},
   "source": [
    "A equação a seguir ira evidenciar qual dos países possui uma diferença menor do valor do Uruguai."
   ]
  },
  {
   "cell_type": "code",
   "execution_count": 17,
   "metadata": {},
   "outputs": [
    {
     "name": "stdout",
     "output_type": "stream",
     "text": [
      "País que está com PIB mais próximo do Uruguay?\n",
      "\n",
      "Tanzania:\n",
      "24.376117496807154\n",
      "\n",
      "\n",
      "Tonga:\n",
      "12.78234811165845\n"
     ]
    }
   ],
   "source": [
    "def diferenca_entre_PIB(pais, Uruguay):\n",
    "    if pais>Uruguay:\n",
    "        D=pais-Uruguay\n",
    "    else:\n",
    "        D=Uruguay-pais\n",
    "    return D\n",
    "\n",
    "print(\"País que está com PIB mais próximo do Uruguay?\")\n",
    "print()\n",
    "print(\"Tanzania:\")\n",
    "print(diferenca_entre_PIB(MPI['mean'][164],Média))\n",
    "print()\n",
    "print()\n",
    "print(\"Tonga:\")\n",
    "print(diferenca_entre_PIB(MPI['mean'][168],Média))"
   ]
  },
  {
   "cell_type": "markdown",
   "metadata": {},
   "source": [
    "Tendo em vista que Tonga possui uma diferença menor da média do pib do uruguay, será o país que também será analisado."
   ]
  },
  {
   "cell_type": "markdown",
   "metadata": {},
   "source": [
    "## Valores da exportação de Tonga"
   ]
  },
  {
   "cell_type": "markdown",
   "metadata": {},
   "source": [
    "Separando os valores de exportação de Tonga a partir do ano de 1991."
   ]
  },
  {
   "cell_type": "code",
   "execution_count": 18,
   "metadata": {},
   "outputs": [
    {
     "data": {
      "text/plain": [
       "1991    229.0\n",
       "1992    236.0\n",
       "1993    199.0\n",
       "1994    174.0\n",
       "1995    175.0\n",
       "1996    204.0\n",
       "1997     21.1\n",
       "1998    199.0\n",
       "1999    156.0\n",
       "2000    144.0\n",
       "2001    130.0\n",
       "2002    183.0\n",
       "2003    194.0\n",
       "2004    197.0\n",
       "2005    178.0\n",
       "2006    145.0\n",
       "2007    122.0\n",
       "2008    157.0\n",
       "2009    134.0\n",
       "2010    124.0\n",
       "2011    159.0\n",
       "2012    170.0\n",
       "2013    204.0\n",
       "2014    168.0\n",
       "2015    170.0\n",
       "2016    213.0\n",
       "2017      NaN\n",
       "Name: Tonga, dtype: float64"
      ]
     },
     "execution_count": 18,
     "metadata": {},
     "output_type": "execute_result"
    }
   ],
   "source": [
    "exportacao_Tonga = exportacao_indice.loc['Tonga',:]\n",
    "depois=exportacao_Tonga.transpose()\n",
    "Tonga_depois=depois[(depois.index>1990)]\n",
    "Tonga_depois"
   ]
  },
  {
   "cell_type": "markdown",
   "metadata": {},
   "source": [
    "Média dos valores de exportação de Tonga no decorrer dos anos (a partir de 1991)"
   ]
  },
  {
   "cell_type": "code",
   "execution_count": 19,
   "metadata": {},
   "outputs": [
    {
     "data": {
      "text/plain": [
       "168.65769230769232"
      ]
     },
     "execution_count": 19,
     "metadata": {},
     "output_type": "execute_result"
    }
   ],
   "source": [
    "Exportacao_Tonga=Tonga_depois.mean()\n",
    "TDI= Tonga_depois.reset_index()\n",
    "Exportacao_Tonga"
   ]
  },
  {
   "cell_type": "markdown",
   "metadata": {},
   "source": [
    "# Analisando os dados"
   ]
  },
  {
   "cell_type": "code",
   "execution_count": 20,
   "metadata": {},
   "outputs": [],
   "source": [
    "uai = uruguay_anterior.reset_index()\n",
    "udi= uruguay_depois.reset_index()\n",
    "eom = média_paises_mercosul.reset_index()\n",
    "mop= média_outros_paises.reset_index()"
   ]
  },
  {
   "cell_type": "markdown",
   "metadata": {},
   "source": [
    "### Comparando Antes e Depois da entrada no Mercosul"
   ]
  },
  {
   "cell_type": "code",
   "execution_count": 21,
   "metadata": {},
   "outputs": [],
   "source": [
    "data = {\n",
    "'Época': ['Antes', 'Depois'],\n",
    "'Média': [média_uruguay_antes,média_uruguay_depois],\n",
    "}\n",
    "tabela_media_uruguay = pd.DataFrame(data, columns=['Época', 'Média'])\n"
   ]
  },
  {
   "cell_type": "code",
   "execution_count": 22,
   "metadata": {},
   "outputs": [
    {
     "data": {
      "image/png": "[encoded data removed]",
      "text/plain": [
       "<Figure size 432x432 with 1 Axes>"
      ]
     },
     "metadata": {
      "needs_background": "light"
     },
     "output_type": "display_data"
    }
   ],
   "source": [
    "plot = tabela_media_uruguay.plot(kind='bar',title='Exportação Uruguay',figsize=(6, 6),color=('b','g'))\n",
    "plt.ylabel('Exportação Uruguay (em % do Pib)')\n",
    "plt.xlabel('Antes X Depois')\n",
    "plt.show()"
   ]
  },
  {
   "cell_type": "markdown",
   "metadata": {},
   "source": [
    "A partir do gráfico acima já é possivel observar que a média depois da entrada do país no Mercosul foi maior."
   ]
  },
  {
   "cell_type": "code",
   "execution_count": 23,
   "metadata": {},
   "outputs": [],
   "source": [
    "def reta(dados_x, dados_y, c, ajuste, linear, angular):    \n",
    "    a = dados_y.cov(dados_x) / dados_x.var()\n",
    "    b = dados_y.mean() - a*dados_x.mean()\n",
    "\n",
    "    print(ajuste)\n",
    "    print()\n",
    "    print(linear, b)\n",
    "    print()\n",
    "    print(angular, a)\n",
    "    print()\n",
    "    print()\n",
    "    plt.scatter(dados_x, dados_y, c=c, alpha=0.8)\n",
    "    plt.title('Retas Uruguay antes e depois da entrada no Mercosul')\n",
    "    plt.xlabel('Anos')\n",
    "    plt.ylabel('exportação(% do Pib)')\n",
    "\n",
    "    plt.plot((dados_x.min(), dados_x.max()), (a*dados_x.min()+b, a*dados_x.max()+b), color=c)\n",
    "\n",
    "    plt.tight_layout()\n"
   ]
  },
  {
   "cell_type": "code",
   "execution_count": 24,
   "metadata": {},
   "outputs": [
    {
     "name": "stdout",
     "output_type": "stream",
     "text": [
      "Ajuste linear Uruguay Antes:\n",
      "\n",
      "Coeficiente linear: -8308.90147783251\n",
      "\n",
      "Coeficiente angular: 4.294581280788177\n",
      "\n",
      "\n",
      "Ajuste linear Uurugay Depois\n",
      "\n",
      "Coeficiente linear: -5671.259259259258\n",
      "\n",
      "Coeficiente angular: 2.944444444444444\n",
      "\n",
      "\n"
     ]
    },
    {
     "data": {
      "text/plain": [
       "<matplotlib.legend.Legend at 0x221590f45c0>"
      ]
     },
     "execution_count": 24,
     "metadata": {},
     "output_type": "execute_result"
    },
    {
     "data": {
      "image/png": "[encoded data removed]",
      "text/plain": [
       "<Figure size 432x288 with 1 Axes>"
      ]
     },
     "metadata": {
      "needs_background": "light"
     },
     "output_type": "display_data"
    }
   ],
   "source": [
    "uai = uruguay_anterior.reset_index()\n",
    "udi= uruguay_depois.reset_index()\n",
    "plt.scatter(uai[\"index\"], uai.Uruguay, color=\"pink\")\n",
    "reta(uai[\"index\"], uai.Uruguay, \"pink\",\"Ajuste linear Uruguay Antes:\", \"Coeficiente linear:\", \"Coeficiente angular:\")\n",
    "plt.scatter(udi[\"index\"], udi.Uruguay, color=\"r\")\n",
    "reta(udi[\"index\"], udi.Uruguay, \"r\", \"Ajuste linear Uurugay Depois\", \"Coeficiente linear:\", \"Coeficiente angular:\")\n",
    "plt.legend()"
   ]
  },
  {
   "cell_type": "markdown",
   "metadata": {},
   "source": [
    "A partir do gráfico acima é possivel observar que o coeficiente angular da reta dos dados antes da entrada no mercosul é aproximadamente 1,5 vezes maior que a reta depois da entrada no MERCOSUL."
   ]
  },
  {
   "cell_type": "markdown",
   "metadata": {},
   "source": [
    "### Comparando Dados de exportação:\n",
    "### Uruguai Depois da entrada no Mercosul X Países do Mercosul X Outros países X Tonga"
   ]
  },
  {
   "cell_type": "code",
   "execution_count": 25,
   "metadata": {},
   "outputs": [],
   "source": [
    "data = {\n",
    "'País/Organização': ['Uruguay', 'Mercosul','Outros países', 'Tonga'],\n",
    "'Média': [média_uruguay_depois,média_total_países_mercosul, média_total_outros_paises, Exportacao_Tonga ],\n",
    "}\n",
    "tabela_media_uruguayXmercosulXoutros_paisesXtonga = pd.DataFrame(data, columns=['País/Organização', 'Média'])"
   ]
  },
  {
   "cell_type": "code",
   "execution_count": 26,
   "metadata": {},
   "outputs": [
    {
     "data": {
      "image/png": "[encoded data removed]",
      "text/plain": [
       "<Figure size 432x432 with 1 Axes>"
      ]
     },
     "metadata": {
      "needs_background": "light"
     },
     "output_type": "display_data"
    }
   ],
   "source": [
    "plot = tabela_media_uruguayXmercosulXoutros_paisesXtonga.plot(kind='bar',title='Exportação Comparação',figsize=(6, 6),color=('b','r','g','pink'))\n",
    "plt.ylabel('Exportação (em % do Pib)')\n",
    "plt.xlabel('Uruguay X Mercosul X Outros Países X Tonga')\n",
    "plt.show()"
   ]
  },
  {
   "cell_type": "markdown",
   "metadata": {},
   "source": [
    "A partir do gráfico acima é possivel observar que a média do uruguai é a mais depois, posteriormente Tonga, outros países e mercosul, respectivamente. "
   ]
  },
  {
   "cell_type": "code",
   "execution_count": 27,
   "metadata": {},
   "outputs": [],
   "source": [
    "def reta(dados_x, dados_y, c, ajuste, linear, angular):    \n",
    "    a = dados_y.cov(dados_x) / dados_x.var()\n",
    "    b = dados_y.mean() - a*dados_x.mean()\n",
    "\n",
    "    print(ajuste)\n",
    "    print()\n",
    "    print(linear, b)\n",
    "    print()\n",
    "    print(angular, a)\n",
    "    print()\n",
    "    \n",
    "    plt.scatter(dados_x, dados_y, c=c, alpha=0.8)\n",
    "    plt.title('Comparação entre Uruguay X Mercosul X Outros Paises X Tonga')\n",
    "    plt.xlabel('Anos')\n",
    "    plt.ylabel('exportação(% do Pib)')\n",
    "\n",
    "    plt.plot((dados_x.min(), dados_x.max()), (a*dados_x.min()+b, a*dados_x.max()+b), color=c)\n",
    "\n",
    "    plt.tight_layout()\n"
   ]
  },
  {
   "cell_type": "code",
   "execution_count": 28,
   "metadata": {},
   "outputs": [
    {
     "name": "stdout",
     "output_type": "stream",
     "text": [
      "Ajuste linear entre Uruguay:\n",
      "\n",
      "Coeficiente linear: -5671.259259259258\n",
      "\n",
      "Coeficiente angular: 2.944444444444444\n",
      "\n",
      "Ajuste linear entre Mercosul:\n",
      "\n",
      "Coeficiente linear: -1469.4419851444848\n",
      "\n",
      "Coeficiente angular: 0.7716407203907202\n",
      "\n",
      "Ajuste linear entre Outros Países:\n",
      "\n",
      "Coeficiente linear: -808.8823949942777\n",
      "\n",
      "Coeficiente angular: 0.4593149150010396\n",
      "\n",
      "Ajuste linear entre Tonga:\n",
      "\n",
      "Coeficiente linear: 1579.919025641026\n",
      "\n",
      "Coeficiente angular: -0.7042222222222224\n",
      "\n"
     ]
    },
    {
     "name": "stderr",
     "output_type": "stream",
     "text": [
      "C:\\Users\\Gabi_XPS\\Anaconda3\\lib\\site-packages\\matplotlib\\figure.py:98: MatplotlibDeprecationWarning: \n",
      "Adding an axes using the same arguments as a previous axes currently reuses the earlier instance.  In a future version, a new instance will always be created and returned.  Meanwhile, this warning can be suppressed, and the future behavior ensured, by passing a unique label to each axes instance.\n",
      "  \"Adding an axes using the same arguments as a previous axes \"\n"
     ]
    },
    {
     "data": {
      "text/plain": [
       "<matplotlib.legend.Legend at 0x22157ccd320>"
      ]
     },
     "execution_count": 28,
     "metadata": {},
     "output_type": "execute_result"
    },
    {
     "data": {
      "image/png": "[encoded data removed]",
      "text/plain": [
       "<Figure size 432x288 with 1 Axes>"
      ]
     },
     "metadata": {
      "needs_background": "light"
     },
     "output_type": "display_data"
    }
   ],
   "source": [
    "plt.scatter(udi[\"index\"], udi.Uruguay, color=\"r\")\n",
    "reta(udi[\"index\"], udi.Uruguay, \"r\", \"Ajuste linear entre Uruguay:\", \"Coeficiente linear:\", \"Coeficiente angular:\")\n",
    "\n",
    "plt.scatter(eom[\"index\"] ,eom [\"mean\"] , color=\"b\")\n",
    "reta(eom[\"index\"] ,eom [\"mean\"],\"b\", \"Ajuste linear entre Mercosul:\", \"Coeficiente linear:\", \"Coeficiente angular:\")\n",
    "\n",
    "plt.scatter(mop[\"index\"] ,mop[\"mean\"], color=\"g\")\n",
    "reta(mop[\"index\"] ,mop[\"mean\"], \"g\", \"Ajuste linear entre Outros Países:\", \"Coeficiente linear:\", \"Coeficiente angular:\")\n",
    "\n",
    "plt.scatter(TDI[\"index\"] ,TDI[\"Tonga\"], color=\"pink\")\n",
    "reta(TDI[\"index\"] ,TDI[\"Tonga\"],\"pink\", \"Ajuste linear entre Tonga:\", \"Coeficiente linear:\", \"Coeficiente angular:\")\n",
    "\n",
    "ax = plt.subplot(111)\n",
    "plt.title('Exportação Uruguay X Outros países X MERCOSUL X Tonga')\n",
    "plt.xlabel('Ano')\n",
    "plt.ylabel('Exportação')\n",
    "ax.legend(loc='center left', bbox_to_anchor=(1, 0.5))\n"
   ]
  },
  {
   "cell_type": "markdown",
   "metadata": {},
   "source": [
    "A partir do gráfico acima que o coeficiente angular da reta de dados do Uruguai é maior que a do Mercosul, que é seguida pela dos outros países do mundo. Por último há Tongo, o qual possui um coeficiente angular negativo o que mostra uma queda nas exportações do país."
   ]
  },
  {
   "cell_type": "code",
   "execution_count": 95,
   "metadata": {},
   "outputs": [],
   "source": [
    "pib_uruguay_depois=pib_uruguay[(pib_uruguay.index>1990)]\n",
    "PID=pib_uruguay_depois.reset_index()\n",
    "PID_index= PID.set_index(\"index\")\n",
    "\n",
    "uruguay_depois=depois[(depois.index>1990)]\n",
    "UD=uruguay_depois.reset_index()\n",
    "UD_index= UD.set_index(\"index\")\n",
    "UD_index.columns=[\"Uruguay\"]\n",
    "\n",
    "df = PID_index.join(UD_index, how='inner', lsuffix='Pib ', rsuffix='exportação ')"
   ]
  },
  {
   "cell_type": "markdown",
   "metadata": {},
   "source": [
    "# Analise"
   ]
  },
  {
   "cell_type": "markdown",
   "metadata": {},
   "source": [
    "## Desde que o Uruguai entrou no Mercosul houve aumento nas exportações? "
   ]
  },
  {
   "cell_type": "markdown",
   "metadata": {},
   "source": [
    "A partir dos dados é possivel concluir que a média de exportações antes da entrada do Uruguai no bloco foi menor que a media posterior a entrada ao bloco. Porem, o coeficiente angular mostra que as exportações a partir do ano de 1991 estão mais constantes (possui um coeficiente angular menor) do que as exportações realizadas antes da entrada no bloco."
   ]
  },
  {
   "cell_type": "markdown",
   "metadata": {},
   "source": [
    "## Qual a relação das exportações do Uruguay desde a entrada no Mercosul com os outros países do bloco?"
   ]
  },
  {
   "cell_type": "markdown",
   "metadata": {},
   "source": [
    "A partir dos gráfico de barras é posssivel observar que a média de exportação do Uruguai foi superior a dos países do mercosul. Além disso, o uruguay tem um coeficente angular quase 4 vezes maior que o do Mercosul. O que evidencia um maior aumento nas exportações do Uruguay quando relacionado ao mercosul."
   ]
  },
  {
   "cell_type": "markdown",
   "metadata": {},
   "source": [
    "## Qual a relação das exportações do Uruguay desde a entrada no Mercosul com o resto do mundo?\n",
    "\n",
    "Os dados mostraram que a média de exportações do Uruguai também supera a média dos países fora do bloco. Além de também possuir um coeficiente angular maior.\n"
   ]
  },
  {
   "cell_type": "markdown",
   "metadata": {},
   "source": [
    "Segundo o site el país \"na última década, o comércio entre os sócios do Mercosul diminuiu, as negociações com a União Europeia, Estados Unidos e China fracassaram e o crescimento da região é menor do que no resto da América Latina.\"\n",
    "https://brasil.elpais.com/brasil/2016/12/23/economia/1482447953_714254.html"
   ]
  },
  {
   "cell_type": "markdown",
   "metadata": {},
   "source": [
    "## Qual a relação das exportações do Uruguay desde a entrada no Mercosul com um paíse similar ao Uruguai?"
   ]
  },
  {
   "cell_type": "markdown",
   "metadata": {},
   "source": [
    "Apesar que Tonga possuir um PIB proximo do Uruguay,a partir das análises realizadas é possível observar que a média de Tonga foi maior que a do Mercosul e dos países fora do bloco, porem ainda foi inferior a média de exportações do Uruguai. \n",
    "Além disso, Tonga apresenta ter um coeficiente angular negativo o que mostra um decrescimo nas exportações."
   ]
  },
  {
   "cell_type": "markdown",
   "metadata": {},
   "source": [
    "# Conclusão"
   ]
  },
  {
   "cell_type": "markdown",
   "metadata": {},
   "source": [
    "A partir da análise realizada é possivel observar que o Uruguai possui tanto uma média, quanto um coeficiente angular na reta dos dados maior que os países do MERCOSUL, os países não pertecentes ao bloco e ao Tonga. \n",
    "Porém, os dados mostram que antes de entrar no bloco o pais possuia uma média inferior, porém um coeficiente angular maior. Assim, é possivel obsersar que há uma maior mudança nas exportações antes da entrada no bloco.\n",
    "\n",
    "Desta forma, é possivel concluir que o Uruguai possui uma crescente representatividade das exportações no seu PIB, o que supera a média dos demais países do bloco, além dos países não pertencentes ao bloco e país semelhante (Tonga)."
   ]
  }
 ],
 "metadata": {
  "kernelspec": {
   "display_name": "Python 3",
   "language": "python",
   "name": "python3"
  },
  "language_info": {
   "codemirror_mode": {
    "name": "ipython",
    "version": 3
   },
   "file_extension": ".py",
   "mimetype": "text/x-python",
   "name": "python",
   "nbconvert_exporter": "python",
   "pygments_lexer": "ipython3",
   "version": "3.7.3"
  }
 },
 "nbformat": 4,
 "nbformat_minor": 2
}
